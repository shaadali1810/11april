{
 "cells": [
  {
   "cell_type": "code",
   "execution_count": 1,
   "id": "ad72dbb7-f5e7-4f2b-a3f5-0527b6ce487f",
   "metadata": {},
   "outputs": [],
   "source": [
    "#1 Ensemble learning is a machine learning technique that enhances accuracy and resilience in forecasting by merging predictions from multiple models. It aims to mitigate errors or biases that may exist in individual models by leveraging the collective intelligence of the ensemble."
   ]
  },
  {
   "cell_type": "code",
   "execution_count": 2,
   "id": "ba7d7eba-3df3-4c75-89c8-203af4f838fb",
   "metadata": {},
   "outputs": [],
   "source": [
    "#Ensemble methods are techniques that aim at improving the accuracy of results in models by combining multiple models instead of using a single model. The combined models increase the accuracy of the results significantly. This has boosted the popularity of ensemble methods in machine learning."
   ]
  },
  {
   "cell_type": "code",
   "execution_count": 3,
   "id": "45e89255-7e78-437d-80a9-386ca4f36b4f",
   "metadata": {},
   "outputs": [],
   "source": [
    "#3Bagging, also known as Bootstrap aggregating, is an ensemble learning technique that helps to improve the performance and accuracy of machine learning algorithms. It is used to deal with bias-variance trade-offs and reduces the variance of a prediction model."
   ]
  },
  {
   "cell_type": "code",
   "execution_count": 4,
   "id": "cdf384d0-c78e-4bb9-8e6c-e58a0fde939a",
   "metadata": {},
   "outputs": [],
   "source": [
    "#4Boosting is a method used in machine learning to reduce errors in predictive data analysis. Data scientists train machine learning software, called machine learning models, on labeled data to make guesses about unlabeled data.\n"
   ]
  },
  {
   "cell_type": "code",
   "execution_count": 5,
   "id": "6df4a54b-1f66-4a6b-a582-ec5cd5957b95",
   "metadata": {},
   "outputs": [],
   "source": [
    "#5Ensemble methods are ideal for reducing the variance in models, thereby increasing the accuracy of predictions. The variance is eliminated when multiple models are combined to form a single prediction that is chosen from all other possible predictions from the combined models."
   ]
  },
  {
   "cell_type": "code",
   "execution_count": 6,
   "id": "c59c755c-212d-44a3-be15-1494e6f3d595",
   "metadata": {},
   "outputs": [],
   "source": [
    "#6 Ensemble methods are ideal for reducing the variance in models, thereby increasing the accuracy of predictions. The variance is eliminated when multiple models are combined to form a single prediction that is chosen from all other possible predictions from the combined models."
   ]
  },
  {
   "cell_type": "code",
   "execution_count": 7,
   "id": "34f0d362-3a45-4a6a-98a3-8126cfcd3b8e",
   "metadata": {},
   "outputs": [],
   "source": [
    "#7 Draw N samples (N will be in the hundreds, and if the software allows, in the thousands) from the original sample with replacement.\n",
    "#For each of the samples, find the sample median.\n",
    "#Arrange these sample medians in order of magnitude.\n"
   ]
  },
  {
   "cell_type": "code",
   "execution_count": 8,
   "id": "43861967-b9c5-4d28-810b-73dcba86f707",
   "metadata": {},
   "outputs": [],
   "source": [
    "#8 The bootstrap method involves iteratively resampling a dataset with replacement. That when using the bootstrap you must choose the size of the sample and the number of repeats. The scikit-learn provides a function that you can use to resample a dataset for the bootstrap method."
   ]
  },
  {
   "cell_type": "code",
   "execution_count": null,
   "id": "646f9732-cf34-40b4-a15d-ff4afe96284f",
   "metadata": {},
   "outputs": [],
   "source": [
    "#9 "
   ]
  }
 ],
 "metadata": {
  "kernelspec": {
   "display_name": "Python 3 (ipykernel)",
   "language": "python",
   "name": "python3"
  },
  "language_info": {
   "codemirror_mode": {
    "name": "ipython",
    "version": 3
   },
   "file_extension": ".py",
   "mimetype": "text/x-python",
   "name": "python",
   "nbconvert_exporter": "python",
   "pygments_lexer": "ipython3",
   "version": "3.10.8"
  }
 },
 "nbformat": 4,
 "nbformat_minor": 5
}
